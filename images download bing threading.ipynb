pip install bing-image-downloader
import os, shutil
from google.colab import drive
drive.mount('/content/gdrive')
from bing_image_downloader import downloader
from threading import Thread
 
limitmax = 250
folder_test = "/content/gdrive/My Drive/download/dogs/test/"
folder_train = "/content/gdrive/My Drive/download/dogs/train/"
folder_valid = "/content/gdrive/My Drive/download/dogs/valid/"
folder_path = '/content/dataset/bing/'
try:
  for file_object in os.listdir(folder_path):
       file_object_path = os.path.join(folder_path, file_object)
       if os.path.isfile(file_object_path):
           os.unlink(file_object_path)
       else:
           shutil.rmtree(file_object_path)
except:
  print("Problem with /content/dataset/bing/")
 
list = ["Brittnepoo",
"Broodle Griffon",
"Brussels Griffon",
"Brussels Griffon Mix",
"Bugg",
"Bull Mastiff Hybrid",
"Bull Terrier",
"Bullmastiff",
"Bully Bassets",
"Cairn Terrier",
"Cairn Terrier Mix",
"Cairnpoo / Cairnoodle",
"Canaan Dog",
"Cane Corso (Italian Mastiff)",
"Cane Corso (Italian Mastiff) Mix",
"Cardigan Welsh Corgi",
"Catahoula Leopard Dog",
"Cava Tzu",
"Cavachon",
"Cavalier King Charles Spaniel",
"Cavalier Mix",
"Cavanese",
"Cavapom",
"Cavapoo",
"Cavestie",
"Central Asian Ovcharka",
"Cesky Terrier",
"Chesapeake Bay Retriever",
"Chi-Poo",
"Chihuahua",
"Chihuahua Mix",
"Chinese Crested",
"Chinese Shar Pei Hybrid",
"Chinese Shar-Pei",
"ChiPom (Chihuahua/Pomerian)",
"ChiWeenie",
"Chow Chow",
"Chow Chow Hybrid",
"Chugs",
"Clumber Spaniel",
"Cockalier",
"Cockapoo",
"Cocker Spaniel",
"Cocker Spaniel Mix",
"Collie",
"Collie Mix",
"Coonhound",
"Coonhound Mix",
"Corgipoo",
"Coton De Tulear",
"Coton de Tulear Mix",
"Curly-Coated Retriever",
"Dachapoo",
"Dachshund",
"Dachshund Mini",
"Dachshund Mix",
"Dalmatian",
"Dalmatian Mix",
"Dandie Dinmont Terrier",
"Doberman Pinscher",
"Doberman Pinscher Mix",
"Dogo Argentino (Argentino Mastiff)",
"Dogue de Bordeaux (French Mastiff)",
"Dogue de Bordeaux Mix",
"Dorkie",
"Double Doodle",
"Doxle",
"Dutch Shepherd",
"English / American Bulldog",
"English Boodle",
"English Bulldog",
"English Bulldog / Basset Hound",
"English Bulldog Hybrid",
"English Bulldog/Boston Terrier",
"English Bulldog/Boxer Hybrid",
"English Bulldog/Olde English Hybrid",
"English Bulldog/Pug Mix",
"English Bulldog/Puggle",
"English Cocker Spaniel",
"English Foxhound",
"English Mastiff",
"English Mastiff mix",
"English Setter",
"English Shepherd",
"English Shepherd Hybrid",
"English Spaniel Mix",
"English Springer Spaniel",
"English Springer Spaniel Hybrid",
"English Toy Spaniel",
"Entlebucher Mountain Dog",
"Entlebucher Mountain Dog Mix",
"EntleDoodle",
"Eskimo Mix",
"Eskipoo",
"Estrela Mountain Dog",
"Farm Kitten",
"Field Spaniel",
"Fila Brasileiro",
"Finnish Spitz",
"Flandoodle",
"Flat-Coated Retriever",
"Foodle",
"Forever Puppies",
"Fox Terrier (Smooth)",
"Fox Terrier (Wire)",
"Fox Terrier Mix",
"Foxhound",
"French Bulldog",
"French Bulldog mix",
"Frenchton",
"Frug",
"Fruggle",
"German Pinscher",
"German Shepherd",
"German Shepherd Mix",
"German Shepherd/Husky",
"German Shepherd/Lab",
"German Shorthaired Pointer",
"German Shorthaired Pointer Mix",
"German Wirehaired Pointer",
"Giant Schnauzer",
"Goberian",
"Goldador",
"Golden Mountain Dog",
"Golden Retriever",
"Golden Retriever - English Cream",
"Golden Retriever mix",
"Golden Shepherd",
"Goldendoodle",
"Gordon Setter",
"Great Dane",
"Great Dane Hybrid",
"Great Pyrenees",
"Great Pyrenees Mix",
"Greater Swiss Mountain Dog",
"Greater Swiss Mountain Hybrid",
"Greyhound",
"Hangin Tree Cow Dog",
"Harrier",
"Havachon",
"Havanese",
"Havanese Hybrid",
"Havanese/Maltese Mix",
"Havanese/Shih Tzu Hybrid",
"Havapom",
"Havapoo",
"Havashire",
"Havaton",
"Himalayan Persian Kitten",
"Huskimo",
"Huskipoo",
"Ibizan Hound",
"Irish Doodle",
"Irish Setter",
"Irish Setter Hybrid",
"Irish Terrier",
"Irish Water Spaniel",
"Irish Wolfhound",
"Italian Greyhound",
"Jack Russel Mix",
"Jack Russell Terrier",
"Jack-a-poo",
"Japanese Chin",
"Japanese Chin Mix",
"Jug",
"Juggles",
"Keeshond",
"Keeshond Mix",
"Kelpie",
"Kerry Blue Terrier",
"Komondor",
"Kooikerhondje",
"Kuvasz",
"Lab Newfie",
"Labradoodle",
"Labrador Retriever",
"Labrador Retriever - Fox Red",
"Labrador Retriever Mix",
"Labrador Retriever-Charcoal",
"Labrador Retriever-Silver",
"Laekenois",
"Lagotto Romagnolo",
"Lakeland Terrier",
"Leonberger Hybrid",
"Lhasa Apso",
"Lhasa Apso Mix",
"Lhasa Poo",
"Long Haired Kittens",
"Lowchen",
"Mal-chon",
"Malchi",
"Malshi",
"Maltese",
"Maltese Mix",
"Malti-Pom",
"Maltipoo",
"Manchester Terrier",
"Maremma Sheepdog",
"Micro Piglets",
"Mini Aussiedoodle",
"Mini Australian Shepherd",
"Mini Australian Shepherd Mix",
"Mini Bernedoodle",
"Mini Bernedoodle Hybrid",
"Mini Bulldog",
"Mini Golden Retriever",
"Mini Goldendoodle",
"Mini Hippo",
"Mini Irish Doodle",
"Mini Labradoodle",
"Mini Newfypoo",
"Mini Pot Belly Pig",
"Mini Saint Bernard",
"Mini Schnoodle",
"Mini Sheepadoodle",
"Mini Whoodle",
"Miniature Bull Terrier",
"Miniature Pinscher",
"Miniature Pinscher Hybrid",
"Miniature Poodles",
"Miniature Schnauzer",
"Miniature Schnauzer Mix",
"Morkie",
"Morkie-Poo",
"Mountain Cur",
"Mountain Cur Mix",
"Mountain Feist",
"Mountain Fiest Mix",
"Neapolitan Mastiff",
"Newfoundland",
"Newfoundland Mix",
"Newfypoo",
"Norfolk Terrier",
"Norwegian Buhund",
"Norwegian Elkhound",
"Norwegian Elkhound Hybrid",
"Norwich Terrier",
"Nova Scotia Duck Tolling Retriever",
"Old English Sheepdog",
"Old English Sheepdog Hybrid",
"Olde English Bulldogge Mix",
"Olde English Bulldogges",
"Otterhound",
"Papillon",
"Papillon Mix",
"Peki-Poo",
"Pekingese",
"Pekingese Mix",
"Perro de Presa Canario",
"Perro de Presa Canario Hybrid",
"Petit Basset Griffon Vendeen",
"Pharaoh Hound",
"Pit Bull Mix",
"Pointer",
"Polish Owczarek Nizinny",
"Pom-Shi",
"Pomapoo",
"Pomchi",
"Pomeranian",
"Pomeranian Mix",
"Pomsky",
"Pomsky (Mini)",
"Pomsky Mix",
"Poodle (Toy)",
"Poodle Mix",
"Poodles (Standard)",
"Poogle (Beagle/Poodle)",
"Poosky Mini",
"PooTon",
"Portuguese Water Dog",
"Portuguese Water Dog Hybrid",
"Pug",
"Pug Hybrid",
"Pugapoo",
"Puggle",
"Puli",
"Puli Hybrid",
"Pyredoodle",
"Ragamese Kittens",
"Ragdoll Kittens",
"Rat Terrier",
"Rat Terrier Mix",
"Red and White Setter",
"Red Heeler",
"Redbone Coonhound",
"Redbone Coonhound Hybrid",
"Rhodesian Ridgeback",
"Rottie Poo",
"Rottweiler",
"Rottweiler Mix",
"Saint Berdoodles",
"Saint Bernard",
"Saint Bernard Mix",
"Saint Bernese",
"Saint Shepherd",
"Saluki",
"Samoyed",
"Samoyed Hybrid",
"Schipperke",
"Schipperke Mix",
"Schnauzer Hybrid",
"Schnoodle",
"Scoodle",
"Scotch Collie",
"Scottish Deerhound",
"Scottish Kilt Kittens",
"Scottish Terrier",
"Sealyham Terrier",
"Sheepadoodle",
"Sheltie Mix",
"Sheltiedoodle",
"Shetland Sheepdog",
"Shiba Inu",
"Shiba Inu Mix",
"Shiba-poo",
"Shichon",
"Shih Tzu",
"Shih Tzu Mix",
"Shih Tzu/Havanese",
"Shih-pom",
"Shih-poo",
"Shorkie",
"Siamese Cat",
"Siberian Husky",
"Siberian Husky Mix",
"Siberian Husky/Wolf Hybrid",
"Siborgi / Horgi",
"Silkie-poo",
"Silky Terrier",
"Silky/Cotons",
"Skye Terrier",
"Slovensky Kopov",
"Soft Coated Wheaten Terrier",
"Soft Coated Wheaten Terrier Mix",
"South African Boerboels",
"Spinone Italiano",
"Springerdoodle",
"Staffordshire Bull Terrier",
"Staffordshire Bull Terrier Hybrid",
"Standard Schnauzer",
"Sussex Spaniel",
"Teddy Bear",
"Teddy Roosevelt Terrier",
"Tervuren",
"Tibetan Spaniel",
"Tibetan Terrier",
"Tibetan Terrier Hybrid",
"Toy Australian Shepherd",
"Toy Fox Terrier",
"Toy Manchester Terrier",
"Toy Terrier Mix",
"Victorian Bulldog",
"Vizsla",
"Vizsla Mix",
"Walker Hound",
"Walker Hound Mix",
"Weimaraner",
"Weimaraner Mix",
"Welsh Corgi (Pembroke)",
"Welsh Corgi Mix",
"Welsh Springer Spaniel",
"Welsh Terrier",
"West Highland Terrier Mix",
"West Highland White Terrier",
"Westie-Poo",
"Whippet",
"Whoodle",
"Wire Fox Terrier",
"Wirehaired Pointing Griffon",
"Wolf Hybrid",
"Xoloitzcuintli",
"York-Chon",
"Yorkie-Pom",
"Yorkiepoo",
"Yorkshire Terrier",
"Yorkshire Terrier Mix",
"Yorktese"]

def printscript(name_string):
  print(str(name_string))

def prescript(name_string):
  i = name_string
  print("i ", str(i))
  try:
    downloader.download(i, limit=limitmax, adult_filter_off=True, force_replace=True)
  except:
    print("error download")
  files = os.listdir(folder_path + i)
  print(files)
  try:
    os.makedirs(folder_test + i)
  except:
    print("The path already exists: " + folder_test + i + " It probably already has data in it!")
  try:
    os.makedirs(folder_valid + i)
  except:
    print("The path already exists: " + folder_valid + i + " It probably already has data in it!")
  try:
    os.makedirs(folder_train + i)
  except:
    print("The path already exists: " + folder_train + i + " It probably already has data in it!")
 
  for j in range(len(files)):
   try:
    if j<=(len(files)/5):
      shutil.move(folder_path + i + "/" + files[j], folder_test + i + "/" + files[j])
    if j>(len(files)/5) and j<=(len(files)*2/5):
      shutil.move(folder_path + i + "/" + files[j], folder_valid + i + "/" + files[j])
    if j>(len(files)*2/5) and j<=(len(files)):
      shutil.move(folder_path + i + "/" + files[j], folder_train + i + "/" + files[j])
   except:
    print("error")


i = 0

thread0 = Thread(target=printscript, args=((list[i]),))
thread1 = Thread(target=printscript, args=((list[i+1]),))
thread2 = Thread(target=printscript, args=((list[i+2]),))
thread3 = Thread(target=printscript, args=((list[i+3]),))
thread4 = Thread(target=printscript, args=((list[i+4]),))
thread5 = Thread(target=printscript, args=((list[i+5]),))
thread0.start()
thread1.start()
thread2.start()
thread3.start()
thread4.start()
thread5.start()
thread0.join()
thread1.join()
thread2.join()
thread3.join()
thread4.join()
thread5.join()

while i < len(list):
    if thread0.is_alive() == False:
      thread0 = Thread(target=prescript, args=((list[i]),))
      thread0.start()
      thread0.join()
      print("t0 " + str(i))
      i = i + 1
    if thread1.is_alive() == False:
      thread1 = Thread(target=prescript, args=((list[i]),))
      thread1.start()
      thread1.join()
      print("t1 " + str(i))
      i = i + 1
    if thread2.is_alive() == False:
      thread2 = Thread(target=prescript, args=((list[i]),))
      thread2.start()
      thread2.join()
      print("t2 " + str(i))
      i = i + 1
    if thread3.is_alive() == False:
      thread3 = Thread(target=prescript, args=((list[i]),))
      thread3.start()
      thread3.join()
      print("t3 " + str(i))
      i = i + 1
    if thread4.is_alive() == False:
      thread4 = Thread(target=prescript, args=((list[i]),))
      thread4.start()
      thread4.join()
      print("t4 " + str(i))
      i = i + 1
    if thread5.is_alive() == False:
      thread5 = Thread(target=prescript, args=((list[i]),))
      thread5.start()
      thread5.join()
      print("t5 " + str(i))
      i = i + 1
